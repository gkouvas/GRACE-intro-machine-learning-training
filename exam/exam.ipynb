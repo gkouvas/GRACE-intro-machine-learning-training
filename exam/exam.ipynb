{
 "cells": [
  {
   "cell_type": "markdown",
   "metadata": {},
   "source": [
    "# Exam - Introduction to Machine Learning\n",
    "\n",
    "The goal of this exam is perform an analysis on data related to heart disease.\n",
    "We would like to explore the relationship between a `target` variable - whether a patient has a heart disease or not - and several other variables such as cholesterol level, age, ...\n",
    "\n",
    "The dataset is stored in the file `'heartData_simplified.csv'`, which is a cleaned and simplified version of the [UCI heart disease data set](https://archive.ics.uci.edu/ml/datasets/heart+Disease)\n",
    "\n",
    "You should explore the dataset and answer the questions of the exam in a jupyter notebook, with comments explaining what you did. \n",
    "You should send your code to **wandrille.duchemin [at] unibas.ch**.\n",
    "\n",
    "\n",
    "\n",
    "## description of the columns\n",
    "\n",
    "* age : Patient age in years\n",
    "* sex : Patient sex\n",
    "* chol : Cholesterol level in mg/dl. \n",
    "* thalach : Maxium heart rate during the stress test\n",
    "* oldpeak : Decrease of the ST segment during exercise according to the same one on rest.\n",
    "* ca : Number of main blood vessels coloured by the radioactive dye. The number varies between 0 to 3.\n",
    "* thal : Results of the blood flow observed via the radioactive dye.\n",
    "\t* defect -> fixed defect (no blood flow in some part of the heart)\n",
    "\t* normal -> normal blood flow\n",
    "\t* reversible -> reversible defect (a blood flow is observed but it is not normal)\n",
    "* target : Whether the patient has a heart disease or not\n",
    "\n",
    "**code to read the data**"
   ]
  },
  {
   "cell_type": "code",
   "execution_count": 1,
   "metadata": {},
   "outputs": [
    {
     "name": "stdout",
     "output_type": "stream",
     "text": [
      "296\n"
     ]
    }
   ],
   "source": [
    "import pandas as pd\n",
    "\n",
    "df = pd.read_table('heartData_simplified.csv',sep=',')\n",
    "df.head()\n",
    "print(len(df))"
   ]
  },
  {
   "cell_type": "markdown",
   "metadata": {},
   "source": [
    "You can see that we have several categorical variables in the dataset: `sex` , `thal`, and our response variable : `target`.\n",
    "\n",
    "If taken as-is, these variables may create problems in ML models. \n",
    "So we will first transform them to sets of colums with 0 and 1."
   ]
  },
  {
   "cell_type": "code",
   "execution_count": 2,
   "metadata": {},
   "outputs": [
    {
     "data": {
      "text/html": [
       "<div>\n",
       "<style scoped>\n",
       "    .dataframe tbody tr th:only-of-type {\n",
       "        vertical-align: middle;\n",
       "    }\n",
       "\n",
       "    .dataframe tbody tr th {\n",
       "        vertical-align: top;\n",
       "    }\n",
       "\n",
       "    .dataframe thead th {\n",
       "        text-align: right;\n",
       "    }\n",
       "</style>\n",
       "<table border=\"1\" class=\"dataframe\">\n",
       "  <thead>\n",
       "    <tr style=\"text-align: right;\">\n",
       "      <th></th>\n",
       "      <th>age</th>\n",
       "      <th>chol</th>\n",
       "      <th>thalach</th>\n",
       "      <th>oldpeak</th>\n",
       "      <th>ca</th>\n",
       "      <th>sex_male</th>\n",
       "      <th>thal_reversible</th>\n",
       "      <th>thal_defect</th>\n",
       "      <th>target_yes</th>\n",
       "    </tr>\n",
       "  </thead>\n",
       "  <tbody>\n",
       "    <tr>\n",
       "      <th>0</th>\n",
       "      <td>63</td>\n",
       "      <td>233</td>\n",
       "      <td>150</td>\n",
       "      <td>2.3</td>\n",
       "      <td>0</td>\n",
       "      <td>1</td>\n",
       "      <td>0</td>\n",
       "      <td>1</td>\n",
       "      <td>0</td>\n",
       "    </tr>\n",
       "    <tr>\n",
       "      <th>1</th>\n",
       "      <td>37</td>\n",
       "      <td>250</td>\n",
       "      <td>187</td>\n",
       "      <td>3.5</td>\n",
       "      <td>0</td>\n",
       "      <td>1</td>\n",
       "      <td>0</td>\n",
       "      <td>0</td>\n",
       "      <td>0</td>\n",
       "    </tr>\n",
       "    <tr>\n",
       "      <th>2</th>\n",
       "      <td>41</td>\n",
       "      <td>204</td>\n",
       "      <td>172</td>\n",
       "      <td>1.4</td>\n",
       "      <td>0</td>\n",
       "      <td>0</td>\n",
       "      <td>0</td>\n",
       "      <td>0</td>\n",
       "      <td>0</td>\n",
       "    </tr>\n",
       "    <tr>\n",
       "      <th>3</th>\n",
       "      <td>56</td>\n",
       "      <td>236</td>\n",
       "      <td>178</td>\n",
       "      <td>0.8</td>\n",
       "      <td>0</td>\n",
       "      <td>1</td>\n",
       "      <td>0</td>\n",
       "      <td>0</td>\n",
       "      <td>0</td>\n",
       "    </tr>\n",
       "    <tr>\n",
       "      <th>4</th>\n",
       "      <td>57</td>\n",
       "      <td>354</td>\n",
       "      <td>163</td>\n",
       "      <td>0.6</td>\n",
       "      <td>0</td>\n",
       "      <td>0</td>\n",
       "      <td>0</td>\n",
       "      <td>0</td>\n",
       "      <td>0</td>\n",
       "    </tr>\n",
       "  </tbody>\n",
       "</table>\n",
       "</div>"
      ],
      "text/plain": [
       "   age  chol  thalach  oldpeak  ca  sex_male  thal_reversible  thal_defect  \\\n",
       "0   63   233      150      2.3   0         1                0            1   \n",
       "1   37   250      187      3.5   0         1                0            0   \n",
       "2   41   204      172      1.4   0         0                0            0   \n",
       "3   56   236      178      0.8   0         1                0            0   \n",
       "4   57   354      163      0.6   0         0                0            0   \n",
       "\n",
       "   target_yes  \n",
       "0           0  \n",
       "1           0  \n",
       "2           0  \n",
       "3           0  \n",
       "4           0  "
      ]
     },
     "execution_count": 2,
     "metadata": {},
     "output_type": "execute_result"
    }
   ],
   "source": [
    "# in this first line, I make sure that \"normal\" becomes the default value for the thal columns\n",
    "df['thal'] = df['thal'].astype(pd.CategoricalDtype(categories=[\"normal\", \"reversible\", \"defect\"],ordered=True))\n",
    "\n",
    "# get dummies will transform these categorical columns to sets of 0/1 columns\n",
    "df = pd.get_dummies( df , drop_first=True )\n",
    "\n",
    "df.head()"
   ]
  },
  {
   "cell_type": "markdown",
   "metadata": {},
   "source": [
    "So now, we can see that `sex` has been replaced by `sex_male`, a column where 1 means male, and 0 means female (so female is the default value, and in subsequent models, the parameter associated with this column will represent the effect associated with being male).\n",
    "\n",
    "Similarly, `target` has been replaced with `target_yes`: 0 means no heart disease, 1 means heart disease.\n",
    "\n",
    "Finally, `thal` has been replaced by 2 columns: this is how categorical variables with more than 2 levels are represented. A 1 in one of these to column means that the blood flow is reversible or fixed (depending on which column the 1 is).\n",
    "When `thal_reversible` and `thal_defect` are at 0, it means that blood flow is normal, the \"default\" value (note that there is no case when they are both 1).\n"
   ]
  },
  {
   "cell_type": "markdown",
   "metadata": {},
   "source": [
    "**Instructions**\n",
    "\n",
    "Your mission is to implement a machine learning pipeline in order to predict `target_yes`.\n",
    "\n",
    "Try to choose a relevant approach regarding :\n",
    " * the split of your data into train and test sets\n",
    " * the metric you would like to optimize\n",
    "\n",
    "\n",
    "Try a logistic regression and a decision tree approach.\n",
    " * Which one yields the best result here ?\n",
    " * If you had to remove 3 measurements out of this analysis, which ones would you choose ?\n",
    " * Try to describe briefly (in 3 or 4 sentences) which insights your model gives you about the relationship between heart disease and the coraviables.\n",
    "\n"
   ]
  },
  {
   "cell_type": "code",
   "execution_count": 4,
   "metadata": {},
   "outputs": [],
   "source": [
    "coVariables = df.drop('target_yes' , axis=1)\n",
    "response = df.target_yes"
   ]
  }
 ],
 "metadata": {
  "kernelspec": {
   "display_name": "Python 3",
   "language": "python",
   "name": "python3"
  },
  "language_info": {
   "codemirror_mode": {
    "name": "ipython",
    "version": 3
   },
   "file_extension": ".py",
   "mimetype": "text/x-python",
   "name": "python",
   "nbconvert_exporter": "python",
   "pygments_lexer": "ipython3",
   "version": "3.7.4"
  }
 },
 "nbformat": 4,
 "nbformat_minor": 4
}
