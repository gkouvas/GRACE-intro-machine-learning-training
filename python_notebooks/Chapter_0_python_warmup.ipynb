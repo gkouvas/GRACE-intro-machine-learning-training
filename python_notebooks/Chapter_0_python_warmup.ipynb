{
 "cells": [
  {
   "cell_type": "markdown",
   "metadata": {},
   "source": [
    "# python warm-up for statistics and machine learning in life sciences\n",
    "\n",
    "The goal of this notebook is to provide a warm-up before the course, as well as provide a gentle yet functionnal intro to some of the libraries we will be using during the course.\n",
    "\n",
    "\n",
    "* [01. Basic python](#basic)\n",
    "* [02. numpy and vectorized operations](#numpy)\n",
    "* [03. basic plotting](#plot)\n",
    "* [04. generating random numbers](#random)\n",
    "* [05. statistical testing](#stats)\n",
    "* [06. bringing together numpy, numpy.random, and matplotlib](#together)\n",
    "* [07. the briefest intro to pandas](#pandas)\n"
   ]
  },
  {
   "cell_type": "markdown",
   "metadata": {},
   "source": [
    "## 00. Installation\n",
    "\n",
    "This course requires you to install a number of external libraries.\n",
    "\n",
    "If you have installed python via anaconda, then you should already have most of them installed.\n",
    "\n",
    "\n",
    "Try the code below to check that :"
   ]
  },
  {
   "cell_type": "code",
   "execution_count": 3,
   "metadata": {},
   "outputs": [
    {
     "name": "stdout",
     "output_type": "stream",
     "text": [
      "numpy ok\n",
      "seaborn ok\n",
      "pandas ok\n",
      "sklearn ok\n"
     ]
    }
   ],
   "source": [
    "import numpy\n",
    "print('numpy ok')\n",
    "import seaborn\n",
    "print('seaborn ok')\n",
    "import pandas\n",
    "print('pandas ok')\n",
    "import sklearn\n",
    "print('sklearn ok')"
   ]
  },
  {
   "cell_type": "markdown",
   "metadata": {},
   "source": [
    "If one of these failed, identify which one and follow the corresponding installation instructions for :\n",
    "\n",
    "* numpy : in a terminal (Mac/Linux) or the anaconda prompt (Windows) write `conda install numpy` and follow instruction\n",
    "* seaborn : same as numpy, but the command is : `conda install seaborn`\n",
    "* pandas : same as numpy, but the command is : `conda install pandas`\n",
    "* [sklearn](https://scikit-learn.org/stable/install.html)\n",
    "\n",
    "After an installation re-launch the code above until you have no errors\n",
    "\n",
    "> Note : you may have to restart the notebook kernel (Kernel>Restart) for the new libraries to be available\n",
    "\n",
    "\n",
    "> Note 2 : alternatively and if you prefer, you can do the installations with `pip`\n"
   ]
  },
  {
   "cell_type": "markdown",
   "metadata": {},
   "source": [
    "## 01. basic python <a class=\"anchor\" id=\"basic\"></a>\n"
   ]
  },
  {
   "cell_type": "code",
   "execution_count": 4,
   "metadata": {},
   "outputs": [
    {
     "name": "stdout",
     "output_type": "stream",
     "text": [
      "[0, 1, 4, 9, 16, 25, 36, 49, 64, 81]\n"
     ]
    }
   ],
   "source": [
    "\n",
    "X = []\n",
    "\n",
    "for i in range(10):\n",
    "    X.append( i**2 ) # squared\n",
    "\n",
    "print(X)"
   ]
  },
  {
   "cell_type": "code",
   "execution_count": 5,
   "metadata": {},
   "outputs": [
    {
     "name": "stdout",
     "output_type": "stream",
     "text": [
      "0\n",
      "1\n",
      "4\n",
      "9\n",
      "16\n",
      "25\n",
      "36\n",
      "49\n",
      "64\n",
      "81\n"
     ]
    }
   ],
   "source": [
    "\n",
    "for x in X:\n",
    "    print(x)\n"
   ]
  },
  {
   "cell_type": "code",
   "execution_count": 6,
   "metadata": {},
   "outputs": [
    {
     "name": "stdout",
     "output_type": "stream",
     "text": [
      "0 is even\n",
      "1 is odd\n",
      "4 is even\n",
      "9 is odd\n",
      "16 is even\n",
      "25 is odd\n",
      "36 is even\n",
      "49 is odd\n",
      "64 is even\n",
      "81 is odd\n"
     ]
    }
   ],
   "source": [
    "for x in X:\n",
    "    if x%2 == 1:\n",
    "        print(x,'is odd')\n",
    "    else:\n",
    "        print(x,'is even')"
   ]
  },
  {
   "cell_type": "code",
   "execution_count": 7,
   "metadata": {},
   "outputs": [
    {
     "name": "stdout",
     "output_type": "stream",
     "text": [
      "X     [0, 1, 4, 9, 16, 25, 36, 49, 64, 81]\n",
      "Xeven [0, 4, 16, 36, 64]\n",
      "Xodd  [1, 9, 25, 49, 81]\n"
     ]
    }
   ],
   "source": [
    "# list comprehension is a very fine way of compressing all this\n",
    "\n",
    "X = [ i**2 for i in range(10) ]\n",
    "\n",
    "Xeven = [ x for x in X if x%2 == 0 ]\n",
    "Xodd = [ x for x in X if x%2 == 1 ]\n",
    "\n",
    "\n",
    "print( 'X    ', X )\n",
    "print( 'Xeven', Xeven )\n",
    "print( 'Xodd ', Xodd )"
   ]
  },
  {
   "cell_type": "markdown",
   "metadata": {},
   "source": [
    "## 02. numpy and vectorized operations <a class=\"anchor\" id=\"numpy\"></a>"
   ]
  },
  {
   "cell_type": "code",
   "execution_count": 8,
   "metadata": {},
   "outputs": [
    {
     "name": "stdout",
     "output_type": "stream",
     "text": [
      "[ 0  1  4  9 16 25 36 49 64 81]\n"
     ]
    }
   ],
   "source": [
    "import numpy as np\n",
    "\n",
    "# an array can be created from a list\n",
    "X_array = np.array(X)\n",
    "\n",
    "print(X_array)"
   ]
  },
  {
   "cell_type": "code",
   "execution_count": 9,
   "metadata": {},
   "outputs": [
    {
     "name": "stdout",
     "output_type": "stream",
     "text": [
      "[ 0.   0.5  2.   4.5  8.  12.5 18.  24.5 32.  40.5]\n"
     ]
    }
   ],
   "source": [
    "# you can perform operations on an array : \n",
    "print( X_array / 2 )  # divides each element by 2"
   ]
  },
  {
   "cell_type": "code",
   "execution_count": 10,
   "metadata": {},
   "outputs": [
    {
     "name": "stdout",
     "output_type": "stream",
     "text": [
      "[1.00000000e+00 2.71828183e+00 5.45981500e+01 8.10308393e+03\n",
      " 8.88611052e+06 7.20048993e+10 4.31123155e+15 1.90734657e+21\n",
      " 6.23514908e+27 1.50609731e+35]\n",
      "[      -inf 0.         1.38629436 2.19722458 2.77258872 3.21887582\n",
      " 3.58351894 3.8918203  4.15888308 4.39444915]\n"
     ]
    },
    {
     "name": "stderr",
     "output_type": "stream",
     "text": [
      "/tmp/ipykernel_29495/1239857420.py:2: RuntimeWarning: divide by zero encountered in log\n",
      "  print( np.log(X_array ) ) # logarithm\n"
     ]
    }
   ],
   "source": [
    "print( np.exp(X_array ) ) # exponential\n",
    "print( np.log(X_array ) ) # logarithm"
   ]
  },
  {
   "cell_type": "code",
   "execution_count": 11,
   "metadata": {},
   "outputs": [
    {
     "name": "stdout",
     "output_type": "stream",
     "text": [
      "shape (10,)\n",
      "mean  28.5\n",
      "standard deviation 26.852374196707448\n"
     ]
    }
   ],
   "source": [
    "print( 'shape' , X_array.shape ) # diemnsions of the array\n",
    "print( 'mean ' , np.mean(X_array) ) # mean of the array\n",
    "print( 'standard deviation' , np.std(X_array) ) # standard deviation of the array"
   ]
  },
  {
   "cell_type": "markdown",
   "metadata": {},
   "source": [
    "### linspace and arange\n",
    "\n",
    "These function extend `range` :\n",
    " * `np.linspace` : create an array comtaining an evenly spaced number of points between $a$ and $b$\n",
    " * `np.arange` : create an array with numbers going from $a$ to $b$ with a given increment"
   ]
  },
  {
   "cell_type": "code",
   "execution_count": 12,
   "metadata": {},
   "outputs": [
    {
     "name": "stdout",
     "output_type": "stream",
     "text": [
      "linspace 0,2,9 :\t[0.   0.25 0.5  0.75 1.   1.25 1.5  1.75 2.  ]\n",
      "linspace -0.5,0.5,11 :\t[-0.5 -0.4 -0.3 -0.2 -0.1  0.   0.1  0.2  0.3  0.4  0.5]\n",
      "linspace 10,0,11 :\t[10.  9.  8.  7.  6.  5.  4.  3.  2.  1.  0.]\n"
     ]
    }
   ],
   "source": [
    "print( 'linspace 0,2,9 :' , np.linspace(0,2,9) , sep='\\t' )\n",
    "print( 'linspace -0.5,0.5,11 :' , np.linspace(-0.5,0.5,11) , sep='\\t' )\n",
    "print( 'linspace 10,0,11 :' , np.linspace(10,0,11) , sep='\\t' )"
   ]
  },
  {
   "cell_type": "code",
   "execution_count": 13,
   "metadata": {},
   "outputs": [
    {
     "name": "stdout",
     "output_type": "stream",
     "text": [
      "arange 0,2,0.1 :\t[1.5 1.6 1.7 1.8 1.9]\n",
      "arange -1,1,0.125 :\t[-1.    -0.875 -0.75  -0.625 -0.5   -0.375 -0.25  -0.125  0.     0.125\n",
      "  0.25   0.375  0.5    0.625  0.75   0.875]\n",
      "arange 10,2 :\t[]\n"
     ]
    }
   ],
   "source": [
    "print( \"arange 0,2,0.1 :\", np.arange(1.5,2,0.1) , sep='\\t' )\n",
    "print( \"arange -1,1,0.125 :\", np.arange(-1,1,0.125) , sep='\\t' )\n",
    "print( \"arange 10,2 :\", np.arange(10,2,1) , sep='\\t' ) # reverse does not work!"
   ]
  },
  {
   "cell_type": "markdown",
   "metadata": {},
   "source": [
    "## 03. basic plotting <a class=\"anchor\" id=\"plot\"></a>"
   ]
  },
  {
   "cell_type": "code",
   "execution_count": 14,
   "metadata": {},
   "outputs": [
    {
     "data": {
      "image/png": "[encoded data removed]",
      "text/plain": [
       "<Figure size 432x288 with 1 Axes>"
      ]
     },
     "metadata": {
      "needs_background": "light"
     },
     "output_type": "display_data"
    }
   ],
   "source": [
    "import matplotlib.pyplot as plt\n",
    "\n",
    "plt.plot( [0,1,2,3] , [10,5,7,0.2] )\n",
    "plt.show()"
   ]
  },
  {
   "cell_type": "markdown",
   "metadata": {},
   "source": [
    "**Adding color, symbols, ...**\n",
    "\n",
    "`matplotlib` offers many options to customize the appearance of your plot.\n",
    "\n",
    "Here are the (some) common arguments to `plot()` (which can also be applied to many other graphical representations):\n",
    " * `color` : could be given as a (red,green,blue) tuple, a [name](https://matplotlib.org/3.1.0/gallery/color/named_colors.html), a hex code, ...  (see [here](https://matplotlib.org/tutorials/colors/colors.html) for all the options)\n",
    " * `marker` : symbols for the data point. `'.'` is a point, `'v'` a down triangle, ... see [here](https://matplotlib.org/3.3.3/api/markers_api.html#module-matplotlib.markers) for the list of possibilities.\n",
    " * `linestyle` : style of the line. `'-'` is solid, `'--'` is dashed, `''` for no line. See [here](https://matplotlib.org/3.3.3/gallery/lines_bars_and_markers/linestyles.html) for more options\n",
    " * `linewidth` : width of the lines\n",
    " * `markersize` : size of the markers\n",
    "\n",
    "You are invited to experiment and explore these options. Here are a few examples:\n"
   ]
  },
  {
   "cell_type": "code",
   "execution_count": 15,
   "metadata": {},
   "outputs": [
    {
     "data": {
      "image/png": "[encoded data removed]",
      "text/plain": [
       "<Figure size 432x288 with 1 Axes>"
      ]
     },
     "metadata": {
      "needs_background": "light"
     },
     "output_type": "display_data"
    }
   ],
   "source": [
    "y1 = [1,2,3,10,5]\n",
    "y2 = [10,9,7,5.5,6]\n",
    "y3 = [4,3,1.5,1]\n",
    "\n",
    "# green, dashed line, with circle markers\n",
    "plt.plot( y1, color = 'green', marker = 'o', linestyle = '--', linewidth = 2, markersize = 8 )\n",
    "\n",
    "# blue triangle with no line\n",
    "plt.plot( y2, color = 'blue', marker = 'v', linestyle = '' , markersize = 16 )\n",
    "\n",
    "# solid orange line\n",
    "plt.plot(y3, color = 'orange', marker = '', linestyle = '-', linewidth = 4 )\n",
    "\n",
    "plt.show()"
   ]
  },
  {
   "cell_type": "markdown",
   "metadata": {},
   "source": [
    "Note that:\n",
    " * you can call plot several time in a row to make several lines appear (only `plt.show()` causes the figure to appear)\n",
    " * the frame of the picture automatically adjust to what it needs to show"
   ]
  },
  {
   "cell_type": "markdown",
   "metadata": {},
   "source": [
    "**multiple subplots**\n",
    "\n",
    "Now would normally be when we show you how to add labels, titles and legends to figures. \n",
    "\n",
    "However, the way `matplotlib` is built, it is actually a bit more efficient to first learn how to create multiple subplots.\n",
    "\n",
    "\n",
    "Creating multiple plots is possible with the function `plt.subplots()`.\n",
    "Amon its many arguments, it takes:\n",
    " * `nrows` : number of subplot rows\n",
    " * `ncols` : number of subplot columns\n",
    " * `figsize` : tuple (width,height) of the figure\n",
    "\n",
    "This function creates a Figure and an Axes object.\n",
    "The Axes object can be either : \n",
    " * a simple Axe is there is 1 row and 1 columns\n",
    " * a list of Axe objects if there is 1 row and multiple columns, or 1 column and multiple rows\n",
    " * a list of lists of Axes objects if there is multiple rows and multiple columns\n"
   ]
  },
  {
   "cell_type": "code",
   "execution_count": 16,
   "metadata": {},
   "outputs": [
    {
     "data": {
      "image/png": "[encoded data removed]",
      "text/plain": [
       "<Figure size 432x288 with 2 Axes>"
      ]
     },
     "metadata": {
      "needs_background": "light"
     },
     "output_type": "display_data"
    }
   ],
   "source": [
    "y1 = [1,2,3,10,5]\n",
    "y2 = [10,9,7,5.5,6]\n",
    "y3 = [4,3,1.5,1]\n",
    "import matplotlib.pyplot as plt\n",
    "\n",
    "# subplots returns a Figure and an Axes object\n",
    "fig, ax = plt.subplots(nrows=1, ncols=2) # 2 columns and 1 row\n",
    "\n",
    "# ax is a list with two objects. Each object correspond to 1 subplot\n",
    "\n",
    "# accessing to the first column ax[0]\n",
    "ax[0].plot( y1, color = 'green', marker = 'o', linestyle = '--', linewidth = 2, markersize = 8 )\n",
    "\n",
    "# accessing to the second column ax[1]\n",
    "ax[1].plot( y2, color = 'blue', marker = 'v', linestyle = '' , markersize = 16 )\n",
    "ax[1].plot( y3, color = 'orange', marker = '', linestyle = '-' )\n",
    "\n",
    "plt.show()"
   ]
  },
  {
   "cell_type": "markdown",
   "metadata": {},
   "source": [
    "Notice how we call `ax[0].plot(...)` instead of `plt.plot(...)` to specify in which subplots we want to plot."
   ]
  },
  {
   "cell_type": "markdown",
   "metadata": {},
   "source": [
    "**multiple subplots - continued**\n",
    "\n",
    "Let's see the same thing with several lines and several columns"
   ]
  },
  {
   "cell_type": "code",
   "execution_count": 17,
   "metadata": {},
   "outputs": [
    {
     "data": {
      "image/png": "[encoded data removed]",
      "text/plain": [
       "<Figure size 864x864 with 4 Axes>"
      ]
     },
     "metadata": {
      "needs_background": "light"
     },
     "output_type": "display_data"
    }
   ],
   "source": [
    "y1 = [1,2,3,10,5]\n",
    "y2 = [10,9,7,5.5,6]\n",
    "y3 = [4,3,1.5,1]\n",
    "y4 = [1,2,3,7,5]\n",
    "\n",
    "# 2 columns and 2 rows, and we also set the figure size\n",
    "fig, ax = plt.subplots(nrows=2, ncols=2 , figsize = (12,12))\n",
    "\n",
    "# ax is a list of two lists with two objects each.\n",
    "\n",
    "# accessing to the first row, first column : ax[0][0]\n",
    "ax[0][0].plot( y1, color = 'green', marker = 'o', linestyle = '--', linewidth = 2, markersize = 8 )\n",
    "\n",
    "# accessing to the first row, second column : ax[0][1]\n",
    "ax[0][1].plot( y2, color = 'blue', marker = 'v', linestyle = '' , markersize = 16 )\n",
    "\n",
    "# accessing to the second row, first column : ax[1][0]\n",
    "ax[1][0].plot( y3, color = 'orange', marker = 'x', linestyle = '-' )\n",
    "\n",
    "# accessing to the first row, second column : ax[1][1]\n",
    "ax[1][1].plot( y4, color = 'teal', linestyle = '-.' , linewidth=5 )\n",
    "\n",
    "plt.show()"
   ]
  },
  {
   "cell_type": "markdown",
   "metadata": {},
   "source": [
    "**setting up labels**\n",
    "\n",
    "To set the labels at the x-axis, y-axis and title, we use the method of the Axe object:\n",
    " * `.set_xlabel(...)`\n",
    " * `.set_ylabel(...)`\n",
    " * `.set_title(...) `\n"
   ]
  },
  {
   "cell_type": "code",
   "execution_count": 18,
   "metadata": {},
   "outputs": [
    {
     "data": {
      "image/png": "[encoded data removed]",
      "text/plain": [
       "<Figure size 720x360 with 2 Axes>"
      ]
     },
     "metadata": {
      "needs_background": "light"
     },
     "output_type": "display_data"
    }
   ],
   "source": [
    "y1 = [1,2,3,10,5]\n",
    "y2 = [10,9,7,5.5,6]\n",
    "y3 = [4,3,1.5,1]\n",
    "\n",
    "# subplots returns a Figure and an Axes object\n",
    "fig, ax = plt.subplots(nrows=1, ncols=2 , figsize=(10,5)) # 2 columns and 1 row\n",
    "\n",
    "\n",
    "# accessing to the first column ax[0]\n",
    "ax[0].plot( y1, color = 'green', marker = 'o', linestyle = '--', linewidth = 2, markersize = 8 )\n",
    "ax[0].set_xlabel('x-axis label')\n",
    "ax[0].set_ylabel('y-axis label')\n",
    "ax[0].set_title('plot 1')\n",
    "\n",
    "\n",
    "# accessing to the second column ax[1]\n",
    "ax[1].plot( y2, color = 'blue', marker = 'v', linestyle = '' , markersize = 16 )\n",
    "ax[1].plot( y3, color = 'orange', marker = '', linestyle = '-' )\n",
    "ax[1].set_xlabel('x-axis label')\n",
    "ax[1].set_ylabel('y-axis label')\n",
    "ax[1].set_title('plot 2')\n",
    "\n",
    "plt.show()"
   ]
  },
  {
   "cell_type": "markdown",
   "metadata": {},
   "source": [
    "**setting up a legend** \n",
    "\n",
    "Each element we add to the figure using `plot()` can be given a label using the `label` argument.\n",
    "Then, a legend may be added to the figure using the `legend()` method.\n",
    "\n",
    "This `legend()` method can take a `loc` argument that specifies where it should be plotted. \n",
    "Possible values for this argument are: `'best' , 'upper right' , 'upper left' , 'lower left' , 'lower right' , 'right' , 'center left' , 'center right' , 'lower center' , 'upper center' , 'center'` (the default is `best`).\n"
   ]
  },
  {
   "cell_type": "code",
   "execution_count": 19,
   "metadata": {},
   "outputs": [
    {
     "data": {
      "image/png": "[encoded data removed]",
      "text/plain": [
       "<Figure size 720x360 with 1 Axes>"
      ]
     },
     "metadata": {
      "needs_background": "light"
     },
     "output_type": "display_data"
    }
   ],
   "source": [
    "\n",
    "fig, ax = plt.subplots(nrows=1, ncols=1 , figsize=(10,5)) # 2 columns and 1 row\n",
    "\n",
    "# NB : with 1 col and 1 row, ax is directly the sole subplot we have\n",
    "#      so to call it we just use ax.plot , ax.set_xlabel , ...\n",
    "\n",
    "ax.plot( y1, color = 'green', marker = 'o', linestyle = '--', linewidth = 2 , label = 'line A' )\n",
    "ax.plot( y2, color = 'blue', marker = 'v', linestyle = '' , markersize =  8 , label = 'line B' )\n",
    "ax.plot( y3, color = 'orange', marker = '', linestyle = '-' , linewidth = 2 , label = 'line C' )\n",
    "\n",
    "ax.set_xlabel('x-axis label')\n",
    "ax.set_ylabel('y-axis label')\n",
    "ax.set_title('plot with a legend')\n",
    "\n",
    "#adding a legend in the upper right\n",
    "ax.legend( loc='upper right')\n",
    "\n",
    "plt.show()\n"
   ]
  },
  {
   "cell_type": "markdown",
   "metadata": {},
   "source": [
    "**additional : writing a figure to a file**\n",
    "\n",
    "Writing a matplotlib figure to a file can be achieved simply by replacing the call to `plt.show()` to `plt.savefig(...)`.\n",
    "\n",
    "`plt.savefig` takes a number of argument, the most commons are :\n",
    " * `fname` : name of the file to write the figure. The extension is used to determine the output format (.pdf,.png, .jpg , .svg ,  ...). Many formats are supported, you can get a list with this command : `plt.gcf().canvas.get_supported_filetypes()`\n",
    " * `dpi` : dots per inches , useful to set-up when saving to raster formats (ie., pixel-based such as png or jpeg). The actual size of the image is set using the argument `figsize` of `plt.subplots()`\n",
    "\n",
    "\n",
    "> Note : in a jupyter notebook the figure will still be shown, whereas in a standard .py script it will not appear on screen.\n",
    "\n",
    "\n",
    "Here is a demonstration. Apply in on your side and verify that the file `testPlot.png` was created:"
   ]
  },
  {
   "cell_type": "code",
   "execution_count": 20,
   "metadata": {},
   "outputs": [
    {
     "data": {
      "image/png": "[encoded data removed]",
      "text/plain": [
       "<Figure size 720x432 with 2 Axes>"
      ]
     },
     "metadata": {
      "needs_background": "light"
     },
     "output_type": "display_data"
    }
   ],
   "source": [
    "import matplotlib.pyplot as plt\n",
    "\n",
    "y1 = [1,2,3,10,5]\n",
    "y2 = [10,9,7,5.5,6]\n",
    "y3 = [4,3,1.5,1]\n",
    "\n",
    "\n",
    "# subplots returns a Figure and an Axes object\n",
    "fig, ax = plt.subplots(nrows=1, ncols=2 , figsize = (10,6) ) # 2 columns and 1 row\n",
    "\n",
    "# ax is a list with two objects. Each object correspond to 1 subplot\n",
    "\n",
    "# accessing to the first column ax[0]\n",
    "ax[0].plot( y1, color = 'green', marker = 'o', linestyle = '--', linewidth = 2, markersize = 8 )\n",
    "\n",
    "# accessing to the second column ax[1]\n",
    "ax[1].plot( y2, color = 'blue', marker = 'v', linestyle = '' , markersize = 16 )\n",
    "ax[1].plot( y3, color = 'orange', marker = '', linestyle = '-' )\n",
    "\n",
    "plt.savefig( 'testPlot.png' , dpi = 90  )"
   ]
  },
  {
   "cell_type": "markdown",
   "metadata": {},
   "source": [
    "\n",
    "<br>\n",
    "\n",
    "\n",
    "## 04. generating random numbers <a class=\"anchor\" id=\"random\"></a>\n",
    "\n",
    "\n",
    "**the basics**"
   ]
  },
  {
   "cell_type": "code",
   "execution_count": 21,
   "metadata": {},
   "outputs": [
    {
     "name": "stdout",
     "output_type": "stream",
     "text": [
      "0.11265180559776888\n",
      "0.7127638143758922\n",
      "0.6015159935297784\n",
      "0.15191234311585866\n"
     ]
    }
   ],
   "source": [
    "import numpy.random as rd\n",
    "\n",
    "# random floats between 0 and 1\n",
    "for i in range(4):\n",
    "    print( rd.random() )\n"
   ]
  },
  {
   "cell_type": "code",
   "execution_count": 22,
   "metadata": {},
   "outputs": [
    {
     "name": "stdout",
     "output_type": "stream",
     "text": [
      "[0.91170873 0.12683965 0.49085122 0.78211115 0.73180515 0.83646395\n",
      " 0.88727171 0.75630535 0.02678442 0.94872647]\n"
     ]
    }
   ],
   "source": [
    "print( rd.random(size=10) ) # draw directly 10 numbers"
   ]
  },
  {
   "cell_type": "markdown",
   "metadata": {},
   "source": [
    "**setting the seed : pseudorandomness and reproducibility**"
   ]
  },
  {
   "cell_type": "code",
   "execution_count": 23,
   "metadata": {},
   "outputs": [
    {
     "name": "stdout",
     "output_type": "stream",
     "text": [
      "1st draw [0.37454012 0.95071431 0.73199394 0.59865848 0.15601864]\n",
      "2nd draw [0.15599452 0.05808361 0.86617615 0.60111501 0.70807258]\n"
     ]
    }
   ],
   "source": [
    "rd.seed(42) # setting the seed to 42\n",
    "print( '1st draw' , rd.random(size=5) )\n",
    "print( '2nd draw' , rd.random(size=5) )\n",
    "rd.seed(42)\n"
   ]
  },
  {
   "cell_type": "code",
   "execution_count": 24,
   "metadata": {},
   "outputs": [
    {
     "name": "stdout",
     "output_type": "stream",
     "text": [
      "after resetting seed [0.37454012 0.95071431 0.73199394 0.59865848 0.15601864]\n"
     ]
    }
   ],
   "source": [
    "print( 'after resetting seed' , rd.random(size=5) )"
   ]
  },
  {
   "cell_type": "code",
   "execution_count": null,
   "metadata": {},
   "outputs": [],
   "source": []
  },
  {
   "cell_type": "markdown",
   "metadata": {},
   "source": [
    "**beyond the uniform distribution**\n",
    "\n",
    "numpy offers you quite a large [set of distributions you can draw from](https://docs.scipy.org/doc/numpy-1.15.0/reference/routines.random.html#distributions).\n",
    "\n",
    "Let's look at the normal distribution:"
   ]
  },
  {
   "cell_type": "code",
   "execution_count": 25,
   "metadata": {},
   "outputs": [
    {
     "name": "stdout",
     "output_type": "stream",
     "text": [
      "mean  0.025354699638558926\n",
      "stdev 1.0003731428167348\n"
     ]
    }
   ],
   "source": [
    "\n",
    "normalDraw = rd.normal(size = 1000 )\n",
    "\n",
    "print( 'mean ' , np.mean( normalDraw ) )\n",
    "print( 'stdev' , np.std( normalDraw ) )"
   ]
  },
  {
   "cell_type": "code",
   "execution_count": 26,
   "metadata": {},
   "outputs": [
    {
     "name": "stdout",
     "output_type": "stream",
     "text": [
      "mean  -1.9773491637651965\n",
      "stdev 2.964622032924749\n"
     ]
    }
   ],
   "source": [
    "normalDraw2 = rd.normal( loc = -2 , scale = 3 , size = 300 ) # loc chnages the location (mean), and scale changes the standard deviation\n",
    "\n",
    "print( 'mean ' , np.mean( normalDraw2 ) )\n",
    "print( 'stdev' , np.std( normalDraw2 ) )"
   ]
  },
  {
   "cell_type": "markdown",
   "metadata": {},
   "source": [
    "of course, we could want to plot these drawn numbers:"
   ]
  },
  {
   "cell_type": "code",
   "execution_count": 27,
   "metadata": {},
   "outputs": [
    {
     "data": {
      "image/png": "[encoded data removed]",
      "text/plain": [
       "<Figure size 432x288 with 1 Axes>"
      ]
     },
     "metadata": {
      "needs_background": "light"
     },
     "output_type": "display_data"
    }
   ],
   "source": [
    "plt.hist( normalDraw  , alpha = 0.5 , label='loc=0  , scale=1')\n",
    "plt.hist( normalDraw2 , alpha = 0.5 , label='loc=-2 , scale=3')\n",
    "plt.legend()\n",
    "plt.show()"
   ]
  },
  {
   "cell_type": "markdown",
   "metadata": {},
   "source": [
    "## 05. statistical testing <a class=\"anchor\" id=\"stats\"></a>\n",
    "\n",
    "`numpy.random` let's you draw random numbers ;\n",
    "`scipy.stats` implements the probability density functions, and Percent point function, as well as the most statistical tests.\n"
   ]
  },
  {
   "cell_type": "code",
   "execution_count": 28,
   "metadata": {},
   "outputs": [
    {
     "data": {
      "image/png": "[encoded data removed]",
      "text/plain": [
       "<Figure size 432x288 with 1 Axes>"
      ]
     },
     "metadata": {
      "needs_background": "light"
     },
     "output_type": "display_data"
    }
   ],
   "source": [
    "import scipy.stats as stats\n",
    "\n",
    "# plotting the probability density function for 1 of the random draw we just made:\n",
    "\n",
    "x = np.linspace(-10,10,1001)\n",
    "\n",
    "normPDF = stats.norm.pdf( x , loc = -2 , scale = 3 )\n",
    "\n",
    "plt.hist( normalDraw2 , alpha = 0.5 , label='random draw' , density = True) # don't forget density=True\n",
    "plt.plot(x,normPDF , label='PDF' )\n",
    "plt.legend()\n",
    "plt.show()"
   ]
  },
  {
   "cell_type": "markdown",
   "metadata": {},
   "source": [
    "We can also get the expected quantiles of a distribution:"
   ]
  },
  {
   "cell_type": "code",
   "execution_count": 29,
   "metadata": {},
   "outputs": [
    {
     "name": "stdout",
     "output_type": "stream",
     "text": [
      "95% quantile of a Chi-square distribution with 3 degrees of freedom: 7.814727903251179\n",
      "fraction of a Chi-square distribution with 3 degrees of freedom above of equal to 5 0.17179714429673354\n"
     ]
    }
   ],
   "source": [
    "print( '95% quantile of a Chi-square distribution with 3 degrees of freedom:', stats.chi2.ppf(0.95 , df=3))\n",
    "print( 'fraction of a Chi-square distribution with 3 degrees of freedom above of equal to 5' ,  \n",
    "      1 - stats.chi2.cdf( 5 , df=3 ) )"
   ]
  },
  {
   "cell_type": "markdown",
   "metadata": {},
   "source": [
    "And you can apply some classical statistical tests:"
   ]
  },
  {
   "cell_type": "code",
   "execution_count": 30,
   "metadata": {},
   "outputs": [
    {
     "name": "stdout",
     "output_type": "stream",
     "text": [
      "result of the t-test\n",
      "\tt: 0.26673986193074073\n",
      "\tp-value: 0.7901311339594405\n"
     ]
    }
   ],
   "source": [
    "# t-test of independance between two random samples:\n",
    "rd.seed(73)\n",
    "\n",
    "s1 = rd.normal( size=67 )\n",
    "s2 = rd.normal( size=54 , loc = 0.2)\n",
    "\n",
    "testStat , pval = stats.ttest_ind(s1,s2 , equal_var=True)  # equal variance : Student's t-test ; unequal : Welch's\n",
    "#almost all of these stat functions return the same test-statistic , pvalue tuple\n",
    "\n",
    "print('result of the t-test')\n",
    "print('\\tt:',testStat)\n",
    "print('\\tp-value:',pval)"
   ]
  },
  {
   "cell_type": "markdown",
   "metadata": {},
   "source": [
    "**What is our conclusion for these tests results? What do you think about this?**"
   ]
  },
  {
   "cell_type": "code",
   "execution_count": 31,
   "metadata": {},
   "outputs": [
    {
     "name": "stdout",
     "output_type": "stream",
     "text": [
      "result of the Kolmogorov-Smirnov test comparing our sample to a Chi-square distribution with 13 degrees of freedom\n",
      "\tK: 0.12249766392962913\n",
      "\tp-value: 0.5003109000967569\n"
     ]
    }
   ],
   "source": [
    "\n",
    "# Kolmogorov-smirnov test for a chi-square distribution\n",
    "\n",
    "sample = rd.chisquare(df=13 , size = 43)\n",
    "\n",
    "\n",
    "# kstest expect as second argument the cdf function of the reference distribution\n",
    "# this is how to handle the fact that me must set an argument (degree of freedom)\n",
    "refDistribution = stats.chi2(df=13).cdf\n",
    "\n",
    "testStat , pval = stats.kstest( sample , refDistribution )\n",
    "# alternative : \n",
    "# testStat , pval = stats.kstest( sample , lambda x : stats.chi2.cdf(x , df=13 ) )\n",
    "\n",
    "print('result of the Kolmogorov-Smirnov test comparing our sample to a Chi-square distribution with 13 degrees of freedom')\n",
    "print('\\tK:',testStat)\n",
    "print('\\tp-value:',pval)\n"
   ]
  },
  {
   "cell_type": "markdown",
   "metadata": {},
   "source": [
    "If you are interested, this [webpage](https://machinelearningmastery.com/statistical-hypothesis-tests-in-python-cheat-sheet/) references all implemented tests, with examples."
   ]
  },
  {
   "cell_type": "markdown",
   "metadata": {},
   "source": [
    "## 06. bringing together numpy, numpy.random, and matplotlib <a class=\"anchor\" id=\"together\"></a>\n",
    "\n",
    "The random generation function return a numpy array, meaning it is fairly trivial to combine it with other arrays:\n"
   ]
  },
  {
   "cell_type": "code",
   "execution_count": 32,
   "metadata": {},
   "outputs": [
    {
     "data": {
      "image/png": "[encoded data removed]",
      "text/plain": [
       "<Figure size 576x576 with 1 Axes>"
      ]
     },
     "metadata": {
      "needs_background": "light"
     },
     "output_type": "display_data"
    }
   ],
   "source": [
    "# combining \n",
    "\n",
    "x = np.sort( rd.normal(loc=170 , scale = 23 , size = 100) )\n",
    "\n",
    "y_theoretical = 0.75 * x + 100 # simple linear relationship : y = a * x + b\n",
    "\n",
    "measurement_noise = rd.normal(scale = 10 , size = 100) # some noise associated to the measure\n",
    "\n",
    "y_observed = y_theoretical + measurement_noise # observed = expected + noise\n",
    "\n",
    "fig,ax = plt.subplots(figsize=(8,8))\n",
    "plt.plot( x , y_theoretical , label = 'expected' )\n",
    "plt.plot( x , y_observed , marker = '.' , linestyle='' , alpha = 0.7 , label = 'observed')\n",
    "plt.legend()\n",
    "plt.show()"
   ]
  },
  {
   "cell_type": "markdown",
   "metadata": {},
   "source": [
    "## 07. the briefest intro to pandas <a class=\"anchor\" id=\"pandas\"></a>\n",
    "\n",
    "`pandas` is a powerful library when doing data analysis, especially in the forms of table.\n",
    "\n",
    "Basically, it reimplements R data.frame as a DataFrame object and ties together neatly with the libraries we've just seen.\n"
   ]
  },
  {
   "cell_type": "code",
   "execution_count": 35,
   "metadata": {},
   "outputs": [
    {
     "data": {
      "text/html": [
       "<div>\n",
       "<style scoped>\n",
       "    .dataframe tbody tr th:only-of-type {\n",
       "        vertical-align: middle;\n",
       "    }\n",
       "\n",
       "    .dataframe tbody tr th {\n",
       "        vertical-align: top;\n",
       "    }\n",
       "\n",
       "    .dataframe thead th {\n",
       "        text-align: right;\n",
       "    }\n",
       "</style>\n",
       "<table border=\"1\" class=\"dataframe\">\n",
       "  <thead>\n",
       "    <tr style=\"text-align: right;\">\n",
       "      <th></th>\n",
       "      <th>dose</th>\n",
       "      <th>nexp</th>\n",
       "      <th>ndied</th>\n",
       "      <th>prop</th>\n",
       "      <th>nalive</th>\n",
       "    </tr>\n",
       "  </thead>\n",
       "  <tbody>\n",
       "    <tr>\n",
       "      <th>1</th>\n",
       "      <td>49.1</td>\n",
       "      <td>59</td>\n",
       "      <td>6</td>\n",
       "      <td>0.102</td>\n",
       "      <td>53</td>\n",
       "    </tr>\n",
       "    <tr>\n",
       "      <th>2</th>\n",
       "      <td>53.0</td>\n",
       "      <td>60</td>\n",
       "      <td>13</td>\n",
       "      <td>0.217</td>\n",
       "      <td>47</td>\n",
       "    </tr>\n",
       "    <tr>\n",
       "      <th>3</th>\n",
       "      <td>56.9</td>\n",
       "      <td>62</td>\n",
       "      <td>18</td>\n",
       "      <td>0.290</td>\n",
       "      <td>44</td>\n",
       "    </tr>\n",
       "    <tr>\n",
       "      <th>4</th>\n",
       "      <td>60.8</td>\n",
       "      <td>56</td>\n",
       "      <td>28</td>\n",
       "      <td>0.500</td>\n",
       "      <td>28</td>\n",
       "    </tr>\n",
       "    <tr>\n",
       "      <th>5</th>\n",
       "      <td>64.8</td>\n",
       "      <td>63</td>\n",
       "      <td>52</td>\n",
       "      <td>0.825</td>\n",
       "      <td>11</td>\n",
       "    </tr>\n",
       "  </tbody>\n",
       "</table>\n",
       "</div>"
      ],
      "text/plain": [
       "   dose  nexp  ndied   prop  nalive\n",
       "1  49.1    59      6  0.102      53\n",
       "2  53.0    60     13  0.217      47\n",
       "3  56.9    62     18  0.290      44\n",
       "4  60.8    56     28  0.500      28\n",
       "5  64.8    63     52  0.825      11"
      ]
     },
     "execution_count": 35,
     "metadata": {},
     "output_type": "execute_result"
    }
   ],
   "source": [
    "import pandas as pd\n",
    "\n",
    "df = pd.read_table( '../data/beetle.csv' , sep=',' , index_col=0 ) # pandas automatically detects header.\n",
    "\n",
    "df.head()"
   ]
  },
  {
   "cell_type": "code",
   "execution_count": 36,
   "metadata": {},
   "outputs": [
    {
     "name": "stdout",
     "output_type": "stream",
     "text": [
      "number of rows: 8 number of columns: 5\n",
      "column names Index(['dose', 'nexp', 'ndied', 'prop', 'nalive'], dtype='object')\n"
     ]
    }
   ],
   "source": [
    "Nrows, Ncols = df.shape\n",
    "print( 'number of rows:',Nrows, 'number of columns:', Ncols )\n",
    "print( 'column names' , df.columns )"
   ]
  },
  {
   "cell_type": "code",
   "execution_count": 37,
   "metadata": {},
   "outputs": [
    {
     "data": {
      "text/html": [
       "<div>\n",
       "<style scoped>\n",
       "    .dataframe tbody tr th:only-of-type {\n",
       "        vertical-align: middle;\n",
       "    }\n",
       "\n",
       "    .dataframe tbody tr th {\n",
       "        vertical-align: top;\n",
       "    }\n",
       "\n",
       "    .dataframe thead th {\n",
       "        text-align: right;\n",
       "    }\n",
       "</style>\n",
       "<table border=\"1\" class=\"dataframe\">\n",
       "  <thead>\n",
       "    <tr style=\"text-align: right;\">\n",
       "      <th></th>\n",
       "      <th>dose</th>\n",
       "      <th>nexp</th>\n",
       "      <th>ndied</th>\n",
       "      <th>prop</th>\n",
       "      <th>nalive</th>\n",
       "    </tr>\n",
       "  </thead>\n",
       "  <tbody>\n",
       "    <tr>\n",
       "      <th>count</th>\n",
       "      <td>8.000000</td>\n",
       "      <td>8.000000</td>\n",
       "      <td>8.000000</td>\n",
       "      <td>8.000000</td>\n",
       "      <td>8.000000</td>\n",
       "    </tr>\n",
       "    <tr>\n",
       "      <th>mean</th>\n",
       "      <td>62.800000</td>\n",
       "      <td>60.125000</td>\n",
       "      <td>36.375000</td>\n",
       "      <td>0.602000</td>\n",
       "      <td>23.750000</td>\n",
       "    </tr>\n",
       "    <tr>\n",
       "      <th>std</th>\n",
       "      <td>9.599702</td>\n",
       "      <td>2.232071</td>\n",
       "      <td>22.557466</td>\n",
       "      <td>0.367937</td>\n",
       "      <td>21.985385</td>\n",
       "    </tr>\n",
       "    <tr>\n",
       "      <th>min</th>\n",
       "      <td>49.100000</td>\n",
       "      <td>56.000000</td>\n",
       "      <td>6.000000</td>\n",
       "      <td>0.102000</td>\n",
       "      <td>0.000000</td>\n",
       "    </tr>\n",
       "    <tr>\n",
       "      <th>25%</th>\n",
       "      <td>55.925000</td>\n",
       "      <td>59.000000</td>\n",
       "      <td>16.750000</td>\n",
       "      <td>0.271750</td>\n",
       "      <td>4.750000</td>\n",
       "    </tr>\n",
       "    <tr>\n",
       "      <th>50%</th>\n",
       "      <td>62.800000</td>\n",
       "      <td>60.000000</td>\n",
       "      <td>40.000000</td>\n",
       "      <td>0.662500</td>\n",
       "      <td>19.500000</td>\n",
       "    </tr>\n",
       "    <tr>\n",
       "      <th>75%</th>\n",
       "      <td>69.675000</td>\n",
       "      <td>62.000000</td>\n",
       "      <td>54.750000</td>\n",
       "      <td>0.919500</td>\n",
       "      <td>44.750000</td>\n",
       "    </tr>\n",
       "    <tr>\n",
       "      <th>max</th>\n",
       "      <td>76.500000</td>\n",
       "      <td>63.000000</td>\n",
       "      <td>61.000000</td>\n",
       "      <td>1.000000</td>\n",
       "      <td>53.000000</td>\n",
       "    </tr>\n",
       "  </tbody>\n",
       "</table>\n",
       "</div>"
      ],
      "text/plain": [
       "            dose       nexp      ndied      prop     nalive\n",
       "count   8.000000   8.000000   8.000000  8.000000   8.000000\n",
       "mean   62.800000  60.125000  36.375000  0.602000  23.750000\n",
       "std     9.599702   2.232071  22.557466  0.367937  21.985385\n",
       "min    49.100000  56.000000   6.000000  0.102000   0.000000\n",
       "25%    55.925000  59.000000  16.750000  0.271750   4.750000\n",
       "50%    62.800000  60.000000  40.000000  0.662500  19.500000\n",
       "75%    69.675000  62.000000  54.750000  0.919500  44.750000\n",
       "max    76.500000  63.000000  61.000000  1.000000  53.000000"
      ]
     },
     "execution_count": 37,
     "metadata": {},
     "output_type": "execute_result"
    }
   ],
   "source": [
    "df.describe()"
   ]
  },
  {
   "cell_type": "code",
   "execution_count": 38,
   "metadata": {},
   "outputs": [
    {
     "data": {
      "text/plain": [
       "1    49.1\n",
       "2    53.0\n",
       "3    56.9\n",
       "4    60.8\n",
       "5    64.8\n",
       "6    68.7\n",
       "7    72.6\n",
       "8    76.5\n",
       "Name: dose, dtype: float64"
      ]
     },
     "execution_count": 38,
     "metadata": {},
     "output_type": "execute_result"
    }
   ],
   "source": [
    "# select a single column:\n",
    "df['dose']"
   ]
  },
  {
   "cell_type": "code",
   "execution_count": 39,
   "metadata": {},
   "outputs": [
    {
     "data": {
      "text/html": [
       "<div>\n",
       "<style scoped>\n",
       "    .dataframe tbody tr th:only-of-type {\n",
       "        vertical-align: middle;\n",
       "    }\n",
       "\n",
       "    .dataframe tbody tr th {\n",
       "        vertical-align: top;\n",
       "    }\n",
       "\n",
       "    .dataframe thead th {\n",
       "        text-align: right;\n",
       "    }\n",
       "</style>\n",
       "<table border=\"1\" class=\"dataframe\">\n",
       "  <thead>\n",
       "    <tr style=\"text-align: right;\">\n",
       "      <th></th>\n",
       "      <th>ndied</th>\n",
       "      <th>nalive</th>\n",
       "    </tr>\n",
       "  </thead>\n",
       "  <tbody>\n",
       "    <tr>\n",
       "      <th>1</th>\n",
       "      <td>6</td>\n",
       "      <td>53</td>\n",
       "    </tr>\n",
       "    <tr>\n",
       "      <th>2</th>\n",
       "      <td>13</td>\n",
       "      <td>47</td>\n",
       "    </tr>\n",
       "    <tr>\n",
       "      <th>3</th>\n",
       "      <td>18</td>\n",
       "      <td>44</td>\n",
       "    </tr>\n",
       "    <tr>\n",
       "      <th>4</th>\n",
       "      <td>28</td>\n",
       "      <td>28</td>\n",
       "    </tr>\n",
       "    <tr>\n",
       "      <th>5</th>\n",
       "      <td>52</td>\n",
       "      <td>11</td>\n",
       "    </tr>\n",
       "    <tr>\n",
       "      <th>6</th>\n",
       "      <td>53</td>\n",
       "      <td>6</td>\n",
       "    </tr>\n",
       "    <tr>\n",
       "      <th>7</th>\n",
       "      <td>61</td>\n",
       "      <td>1</td>\n",
       "    </tr>\n",
       "    <tr>\n",
       "      <th>8</th>\n",
       "      <td>60</td>\n",
       "      <td>0</td>\n",
       "    </tr>\n",
       "  </tbody>\n",
       "</table>\n",
       "</div>"
      ],
      "text/plain": [
       "   ndied  nalive\n",
       "1      6      53\n",
       "2     13      47\n",
       "3     18      44\n",
       "4     28      28\n",
       "5     52      11\n",
       "6     53       6\n",
       "7     61       1\n",
       "8     60       0"
      ]
     },
     "execution_count": 39,
     "metadata": {},
     "output_type": "execute_result"
    }
   ],
   "source": [
    "df[ ['ndied','nalive'] ] # select several columns"
   ]
  },
  {
   "cell_type": "markdown",
   "metadata": {},
   "source": [
    "**Plotting DataFrame Columns**\n",
    "\n",
    "Because `DataFrame` columns are iterable, they can seamlessly be given as argument to `plot()`."
   ]
  },
  {
   "cell_type": "code",
   "execution_count": 40,
   "metadata": {},
   "outputs": [
    {
     "data": {
      "image/png": "[encoded data removed]",
      "text/plain": [
       "<Figure size 432x288 with 1 Axes>"
      ]
     },
     "metadata": {
      "needs_background": "light"
     },
     "output_type": "display_data"
    }
   ],
   "source": [
    "\n",
    "# plotting the column dose along the x-axis and prop along the y-axis\n",
    "# I use the + marker, with a teal color.\n",
    "plt.plot(df['dose'] , df['prop'] , color = 'teal' , linestyle='' , marker = '+' , markersize=10 )\n",
    "plt.xlabel( 'dose' )\n",
    "plt.ylabel( 'proportion of dead' )\n",
    "plt.show()"
   ]
  },
  {
   "cell_type": "markdown",
   "metadata": {},
   "source": [
    "DataFrame column can be manipulated like numpy array:"
   ]
  },
  {
   "cell_type": "code",
   "execution_count": 41,
   "metadata": {},
   "outputs": [
    {
     "name": "stderr",
     "output_type": "stream",
     "text": [
      "/home/wandrille/Installed_software/anaconda3/envs/introML2022/lib/python3.10/site-packages/pandas/core/arraylike.py:397: RuntimeWarning: divide by zero encountered in log\n",
      "  result = getattr(ufunc, method)(*inputs, **kwargs)\n"
     ]
    },
    {
     "data": {
      "image/png": "[encoded data removed]",
      "text/plain": [
       "<Figure size 432x288 with 1 Axes>"
      ]
     },
     "metadata": {
      "needs_background": "light"
     },
     "output_type": "display_data"
    }
   ],
   "source": [
    "\n",
    "## we can combine columns using normal operators\n",
    "Odds = df['nalive'] / df['ndied'] # the odds of being alive is nalive / ndead\n",
    "\n",
    "## adding a new column to the DataFrame is trivial:\n",
    "df['Odds'] = Odds \n",
    "\n",
    "\n",
    "## we can also apply numpy function to them\n",
    "df['logOdds'] = np.log( df['Odds'] )\n",
    "\n",
    "\n",
    "plt.plot(df['dose'] , df['logOdds'] , color = 'teal' , linestyle='' , marker = '+' , markersize=10 )\n",
    "plt.xlabel( 'dose' )\n",
    "plt.ylabel( 'log Odds' )\n",
    "plt.show()\n"
   ]
  }
 ],
 "metadata": {
  "kernelspec": {
   "display_name": "Environment (conda_introml2022)",
   "language": "python",
   "name": "conda_introml2022"
  },
  "language_info": {
   "codemirror_mode": {
    "name": "ipython",
    "version": 3
   },
   "file_extension": ".py",
   "mimetype": "text/x-python",
   "name": "python",
   "nbconvert_exporter": "python",
   "pygments_lexer": "ipython3",
   "version": "3.10.5"
  }
 },
 "nbformat": 4,
 "nbformat_minor": 2
}
